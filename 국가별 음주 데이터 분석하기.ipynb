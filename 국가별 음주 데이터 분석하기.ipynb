{
 "cells": [
  {
   "cell_type": "code",
   "execution_count": null,
   "metadata": {},
   "outputs": [
    {
     "name": "stderr",
     "output_type": "stream",
     "text": [
      "Matplotlib is building the font cache; this may take a moment.\n"
     ]
    }
   ],
   "source": [
    "import matplotlib\n",
    "import matplotlib.font_manager as fm\n",
    "import matplotlib.pyplot as plt\n",
    "\n",
    "fontpath = '../bigdata anlysis II/src/NanumBarunGothic.ttf'\n",
    "font = fm.FontProperties(fname=fontpath, size=9)\n",
    "plt.rc('font', family='NanumBarunGothic') \n",
    "matplotlib.font_manager._rebuild()"
   ]
  },
  {
   "cell_type": "markdown",
   "metadata": {},
   "source": [
    "# Step1. 탐색: 데이터의 기초 정보 살펴보기"
   ]
  },
  {
   "cell_type": "markdown",
   "metadata": {},
   "source": [
    "#### * drinks 데이터셋의 기초정보 출력하기"
   ]
  },
  {
   "cell_type": "code",
   "execution_count": null,
   "metadata": {},
   "outputs": [],
   "source": [
    "import pandas as pd\n",
    "file_path = \"data/drinks.csv\"\n",
    "drinks = pd.read_csv(file_path, sep ='\\t')\n",
    "print(drinks.info())\n",
    "drinks.head(5)"
   ]
  },
  {
   "cell_type": "markdown",
   "metadata": {},
   "source": [
    "- 책에 주어진 데이터 프레임과 데이터로 현재 데이터프레임이 일치하지 않아  \n",
    "맞추는 수정작업이 필요하다."
   ]
  },
  {
   "cell_type": "code",
   "execution_count": null,
   "metadata": {},
   "outputs": [],
   "source": [
    "cols = str(drinks.columns[0])\n",
    "cols = cols.split(',')\n",
    "cols"
   ]
  },
  {
   "cell_type": "code",
   "execution_count": null,
   "metadata": {},
   "outputs": [],
   "source": [
    "new_drinks = pd.DataFrame(columns=cols)\n",
    "for i in range(len(drinks)):\n",
    "     new_drinks.loc[i] = str(drinks.loc[i][0]).split(\",\")\n",
    "new_drinks"
   ]
  },
  {
   "cell_type": "code",
   "execution_count": null,
   "metadata": {},
   "outputs": [],
   "source": [
    "# 데이터프레임 생성 후 한 줄씩 추가하는 방법\n",
    "df4 = pd.DataFrame(columns=(\"i1\", \"i2\", \"i3\"))\n",
    "for i in range(3):\n",
    "    df4.loc[i] = [(i + 1) * (n + 1) for n in range(3)]\n",
    "print(df4); print()\n",
    "    \n",
    "# 여러 컬럼을 가진 데이터프레임 한 번에 생성하는 방법\n",
    "df2 = pd.DataFrame({\"c1\": [1, 2, 3], \"c2\": [11, 22, 33], \"c3\": [111, 222, 333]}, index=[\"i1\", \"i2\", \"i3\"])\n",
    "print(df2)"
   ]
  },
  {
   "cell_type": "code",
   "execution_count": null,
   "metadata": {},
   "outputs": [],
   "source": [
    "drinks = new_drinks\n",
    "drinks.info()"
   ]
  },
  {
   "cell_type": "code",
   "execution_count": null,
   "metadata": {},
   "outputs": [],
   "source": [
    "# Dtype 바꾸기\n",
    "# beer_servings, spirit_servings, wine_servings -> int64\n",
    "# total_litres_of_pure_alcohol  -> float64\n",
    "cols = ['beer_servings', 'spirit_servings', 'wine_servings']\n",
    "for col in cols:\n",
    "    drinks = drinks.astype({col: 'int64'})\n",
    "\n",
    "col = 'total_litres_of_pure_alcohol'\n",
    "drinks = drinks.astype({col: 'float'})\n",
    "drinks.info()"
   ]
  },
  {
   "cell_type": "code",
   "execution_count": null,
   "metadata": {},
   "outputs": [],
   "source": [
    "drinks.describe()"
   ]
  },
  {
   "cell_type": "markdown",
   "metadata": {},
   "source": [
    "# Step2. 인사이트의 발견: 탐색과 시각화하기"
   ]
  },
  {
   "cell_type": "markdown",
   "metadata": {},
   "source": [
    "#### * 두 피처간 상관계수 구하기"
   ]
  },
  {
   "cell_type": "code",
   "execution_count": null,
   "metadata": {},
   "outputs": [],
   "source": [
    "#  pearson은 상관 계수를 구하는 계산 방법 중 하나로, 가장 널리 쓰이는 방법\n",
    "corr  = drinks[['beer_servings','wine_servings']].corr(method='pearson')\n",
    "print(corr)"
   ]
  },
  {
   "cell_type": "markdown",
   "metadata": {},
   "source": [
    "#### * 여러 피처간 상관계수 분석하기"
   ]
  },
  {
   "cell_type": "code",
   "execution_count": null,
   "metadata": {},
   "outputs": [],
   "source": [
    "corr = drinks[drinks.columns].corr(method='pearson')\n",
    "print(corr)"
   ]
  },
  {
   "cell_type": "code",
   "execution_count": null,
   "metadata": {},
   "outputs": [],
   "source": [
    "import seaborn as sns\n",
    "import matplotlib.pyplot as plt\n",
    "\n",
    "cols_view = ['beer', 'spirit', 'wine', 'alcohol']\n",
    "sns.set(font_scale=1.0)\n",
    "hm = sns.heatmap(corr.values, \n",
    "                               cbar = True, \n",
    "                               annot = True,\n",
    "                               square = True,\n",
    "                               fmt = '.2f',\n",
    "                               annot_kws = {'size': 15},\n",
    "                               yticklabels = cols_view,\n",
    "                               xticklabels = cols_view)\n",
    "\n",
    "plt.tight_layout()\n",
    "plt.show()\n",
    "\n",
    "sns.set(style='whitegrid', context='notebook')\n",
    "sns.pairplot(drinks[drinks.columns], height = 2.5)\n",
    "plt.show()"
   ]
  },
  {
   "cell_type": "markdown",
   "metadata": {},
   "source": [
    "- total_litres_of_pure_alcohol 피처가 대체적으로 모든 피처와 상관관계가 있는 것으로 보아  \n",
    "특히 beer_servings와 연관성이 많아보인다."
   ]
  },
  {
   "cell_type": "markdown",
   "metadata": {},
   "source": [
    "# Step3. 데이터 전처리: 전처리 함수 사용하기"
   ]
  },
  {
   "cell_type": "markdown",
   "metadata": {},
   "source": [
    "#### * 결측데이터 전처리하기"
   ]
  },
  {
   "cell_type": "code",
   "execution_count": null,
   "metadata": {},
   "outputs": [],
   "source": [
    "#  책에서는 Nan(결측지)으로 되어있지만 지금 자료는 NA으로 되어있다. Other -> OT\n",
    "# drinks['continent'] = drinks['continent'].fillna('OT')\n",
    "drinks.replace('NA', 'OT', inplace=True)\n",
    "drinks.head(10)"
   ]
  },
  {
   "cell_type": "markdown",
   "metadata": {},
   "source": [
    "#### * 전체 대륙 중에서 OT가 차지하는 비율을 파이차트로 시각화하기"
   ]
  },
  {
   "cell_type": "code",
   "execution_count": null,
   "metadata": {},
   "outputs": [],
   "source": [
    "labels = drinks['continent'].value_counts().index.tolist()\n",
    "fracs1 = drinks['continent'].value_counts().values.tolist()\n",
    "explode = (0, 0, 0, 0.25, 0, 0)\n",
    "\n",
    "plt.pie(fracs1, explode=explode, labels=labels, autopct='%.0f%%', shadow=True)\n",
    "plt.title('null data to \\'OT\\'')\n",
    "plt.show()"
   ]
  },
  {
   "cell_type": "markdown",
   "metadata": {},
   "source": [
    "#### * agg() 함수를 이용해 대륙별 spirit_servings의 통계적 정보 분석하기"
   ]
  },
  {
   "cell_type": "code",
   "execution_count": null,
   "metadata": {},
   "outputs": [],
   "source": [
    "result = drinks.groupby('continent').spirit_servings.agg(['mean', 'min', 'max', 'sum'])\n",
    "result.head()"
   ]
  },
  {
   "cell_type": "code",
   "execution_count": null,
   "metadata": {},
   "outputs": [],
   "source": [
    "import numpy as np\n",
    "\n",
    "n_grps = len(result.index)\n",
    "means = result['mean'].tolist()\n",
    "mins = result['min'].tolist()\n",
    "maxs = result['max'].tolist()\n",
    "sums = result['sum'].tolist()\n",
    "\n",
    "index = np.arange(n_grps)\n",
    "bar_width = 0.1\n",
    "\n",
    "rt1 = plt.bar(index, means, bar_width, color='r', label='Mean')\n",
    "rt2 = plt.bar(index + bar_width, mins, bar_width, color='g', label='Min')\n",
    "rt3 = plt.bar(index + bar_width * 2, maxs, bar_width, color='b', label='Max')\n",
    "rt4 = plt.bar(index + bar_width * 3, sums, bar_width, color='y', label='Sum')\n",
    "\n",
    "plt.xticks(index, result.index.tolist())\n",
    "plt.legend()\n",
    "plt.show()"
   ]
  },
  {
   "cell_type": "markdown",
   "metadata": {},
   "source": [
    "#### * 전체 평균보다 많은 알고올을 섭취하는 대륙 구하기"
   ]
  },
  {
   "cell_type": "code",
   "execution_count": null,
   "metadata": {},
   "outputs": [],
   "source": [
    "total_mean = drinks.total_litres_of_pure_alcohol.mean()\n",
    "continent_mean = drinks.groupby('continent')['total_litres_of_pure_alcohol'].mean()\n",
    "continent_over_mean = continent_mean[continent_mean >= total_mean]\n",
    "continent_over_mean"
   ]
  },
  {
   "cell_type": "code",
   "execution_count": null,
   "metadata": {},
   "outputs": [],
   "source": [
    "continents = continent_mean.index.tolist()\n",
    "continents.append('mean')\n",
    "x_pos = np.arange(len(continents))\n",
    "alcohol = continent_mean.tolist()\n",
    "alcohol.append(total_mean)\n",
    "\n",
    "bar_list = plt.bar(x_pos, alcohol, align='center', alpha=0.5)\n",
    "bar_list[-1].set_color('r')\n",
    "plt.plot([0., 6], [total_mean, total_mean], 'k--')\n",
    "plt.xticks(x_pos, continents)\n",
    "\n",
    "plt.ylabel('total_litres_of_pure_alcohol')\n",
    "plt.title('대륙별 total_litres_of_pure_alcohol')"
   ]
  },
  {
   "cell_type": "markdown",
   "metadata": {},
   "source": [
    "#### * 평균 beer_servings가 가장 높은 대륙은 어디일까?"
   ]
  },
  {
   "cell_type": "code",
   "execution_count": null,
   "metadata": {},
   "outputs": [],
   "source": [
    "# beer_continent = drinks.groupby('continent')['beer_servings'].mean().idxmax()\n",
    "beer_continent = drinks.groupby('continent')['beer_servings'].mean()\n",
    "print(beer_continent)\n",
    "beer_continent.idxmax()"
   ]
  },
  {
   "cell_type": "code",
   "execution_count": null,
   "metadata": {},
   "outputs": [],
   "source": [
    "beer_sum = drinks.groupby('continent')['beer_servings'].sum() #평균이 아닌 합을 구함\n",
    "continents = beer_sum.index.tolist()\n",
    "y_pos = np.arange(len(continents))\n",
    "alcohol = beer_sum.tolist()\n",
    "\n",
    "bar_list = plt.bar(y_pos, alcohol, align='center', alpha=0.5)\n",
    "bar_list[continents.index('EU')].set_color('r')\n",
    "plt.xticks(y_pos, continents)\n",
    "plt.ylabel('beer_serving')\n",
    "plt.title('대륙별 beer_serving')\n",
    "\n",
    "plt.show()"
   ]
  },
  {
   "cell_type": "markdown",
   "metadata": {},
   "source": [
    "# Step4. 탐색적 분석: 스무고개로 개념적 탐색 분석하기 "
   ]
  },
  {
   "cell_type": "markdown",
   "metadata": {},
   "source": [
    "#### * 아프리카와 유럽 간의 맥주 소비량 차이 검정하기"
   ]
  },
  {
   "cell_type": "markdown",
   "metadata": {},
   "source": [
    "#### * '대한민국은 얼마나 술을 독하게 마시는 나라일까' 탐색하기"
   ]
  },
  {
   "cell_type": "markdown",
   "metadata": {},
   "source": [
    "#### * 국가별 순위 정보를 시각화하기"
   ]
  }
 ],
 "metadata": {
  "kernelspec": {
   "display_name": "Python 3",
   "language": "python",
   "name": "python3"
  },
  "language_info": {
   "codemirror_mode": {
    "name": "ipython",
    "version": 3
   },
   "file_extension": ".py",
   "mimetype": "text/x-python",
   "name": "python",
   "nbconvert_exporter": "python",
   "pygments_lexer": "ipython3",
   "version": "3.8.5"
  }
 },
 "nbformat": 4,
 "nbformat_minor": 4
}
