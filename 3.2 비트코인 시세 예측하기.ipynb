{
 "cells": [
  {
   "cell_type": "code",
   "execution_count": 1,
   "metadata": {},
   "outputs": [],
   "source": [
    "import matplotlib\n",
    "import matplotlib.font_manager as fm\n",
    "import matplotlib.pyplot as plt\n",
    "\n",
    "fontpath = '../bigdata anlysis II/src/NanumBarunGothic.ttf'\n",
    "font = fm.FontProperties(fname=fontpath, size=9)\n",
    "plt.rc('font', family='NanumBarunGothic') \n",
    "matplotlib.font_manager._rebuild()"
   ]
  },
  {
   "cell_type": "markdown",
   "metadata": {},
   "source": [
    "### 시계열 데이터 분석\n",
    " - 시계열 데이터: 연속적인 시간에 따라 측정되는 데이터\n",
    " - 시계열 데이터의 종류  \n",
    " 1) 규칙적 시계열 데이터\n",
    " 2) 불규칙적 시계열 데이터"
   ]
  },
  {
   "cell_type": "markdown",
   "metadata": {},
   "source": [
    "# Step1. 탐색: 시간 정보가 포함된 데이터 살펴보기"
   ]
  },
  {
   "cell_type": "markdown",
   "metadata": {},
   "source": [
    "#### * market price 데이터셋의 기본정보 구하기"
   ]
  },
  {
   "cell_type": "code",
   "execution_count": 2,
   "metadata": {},
   "outputs": [
    {
     "name": "stdout",
     "output_type": "stream",
     "text": [
      "(365, 2)\n",
      "<class 'pandas.core.frame.DataFrame'>\n",
      "RangeIndex: 365 entries, 0 to 364\n",
      "Data columns (total 2 columns):\n",
      " #   Column  Non-Null Count  Dtype  \n",
      "---  ------  --------------  -----  \n",
      " 0   day     365 non-null    object \n",
      " 1   price   365 non-null    float64\n",
      "dtypes: float64(1), object(1)\n",
      "memory usage: 5.8+ KB\n",
      "None\n"
     ]
    },
    {
     "data": {
      "text/html": [
       "<div>\n",
       "<style scoped>\n",
       "    .dataframe tbody tr th:only-of-type {\n",
       "        vertical-align: middle;\n",
       "    }\n",
       "\n",
       "    .dataframe tbody tr th {\n",
       "        vertical-align: top;\n",
       "    }\n",
       "\n",
       "    .dataframe thead th {\n",
       "        text-align: right;\n",
       "    }\n",
       "</style>\n",
       "<table border=\"1\" class=\"dataframe\">\n",
       "  <thead>\n",
       "    <tr style=\"text-align: right;\">\n",
       "      <th></th>\n",
       "      <th>day</th>\n",
       "      <th>price</th>\n",
       "    </tr>\n",
       "  </thead>\n",
       "  <tbody>\n",
       "    <tr>\n",
       "      <th>360</th>\n",
       "      <td>2018-08-22 00:00:00</td>\n",
       "      <td>6575.229167</td>\n",
       "    </tr>\n",
       "    <tr>\n",
       "      <th>361</th>\n",
       "      <td>2018-08-23 00:00:00</td>\n",
       "      <td>6434.881667</td>\n",
       "    </tr>\n",
       "    <tr>\n",
       "      <th>362</th>\n",
       "      <td>2018-08-24 00:00:00</td>\n",
       "      <td>6543.645714</td>\n",
       "    </tr>\n",
       "    <tr>\n",
       "      <th>363</th>\n",
       "      <td>2018-08-25 00:00:00</td>\n",
       "      <td>6719.429231</td>\n",
       "    </tr>\n",
       "    <tr>\n",
       "      <th>364</th>\n",
       "      <td>2018-08-26 00:00:00</td>\n",
       "      <td>6673.274167</td>\n",
       "    </tr>\n",
       "  </tbody>\n",
       "</table>\n",
       "</div>"
      ],
      "text/plain": [
       "                     day        price\n",
       "360  2018-08-22 00:00:00  6575.229167\n",
       "361  2018-08-23 00:00:00  6434.881667\n",
       "362  2018-08-24 00:00:00  6543.645714\n",
       "363  2018-08-25 00:00:00  6719.429231\n",
       "364  2018-08-26 00:00:00  6673.274167"
      ]
     },
     "execution_count": 2,
     "metadata": {},
     "output_type": "execute_result"
    }
   ],
   "source": [
    "%matplotlib inline\n",
    "\n",
    "import pandas as pd\n",
    "import numpy as np\n",
    "import matplotlib.pyplot as plt\n",
    "\n",
    "file_path = \"data/market-price.csv\"\n",
    "df_bitcoin = pd.read_csv(file_path, names=['day', 'price'])\n",
    "\n",
    "print(df_bitcoin.shape)\n",
    "print(df_bitcoin.info())\n",
    "df_bitcoin.tail()"
   ]
  },
  {
   "cell_type": "markdown",
   "metadata": {},
   "source": [
    "- 데이터셋은 총 1365개이다.\n",
    "- 날짜, 가격에 대한 2개의 feature로 구성되어 있다. -> 시계열 데이터셋"
   ]
  },
  {
   "cell_type": "markdown",
   "metadata": {},
   "source": [
    "#### * 시계열 정보를 데이터 프레임의 index로 설정, 가격의 추이를 시각화"
   ]
  },
  {
   "cell_type": "code",
   "execution_count": 3,
   "metadata": {},
   "outputs": [
    {
     "data": {
      "image/png": "[encoded data removed]",
      "text/plain": [
       "<Figure size 432x288 with 1 Axes>"
      ]
     },
     "metadata": {
      "needs_background": "light"
     },
     "output_type": "display_data"
    }
   ],
   "source": [
    "# to_datetime으로 day 피처를 시계열 피처로 변환\n",
    "df_bitcoin['day'] = pd.to_datetime(df_bitcoin['day'])\n",
    "\n",
    "# day 피처를 df_bitcoin 데이터 프레임 index로 설정\n",
    "df_bitcoin.index = df_bitcoin['day']\n",
    "df_bitcoin.set_index('day', inplace=True)\n",
    "\n",
    "#  day별 비트코인 시세를 시각화\n",
    "df_bitcoin.plot()\n",
    "plt.show()"
   ]
  },
  {
   "cell_type": "markdown",
   "metadata": {},
   "source": [
    "# Step2. 예측: 파이썬 라이브러리를 활용해서 시세 예측하기"
   ]
  },
  {
   "cell_type": "markdown",
   "metadata": {},
   "source": [
    "#### * ARIMA 모델 활용하기: 모델 학습"
   ]
  },
  {
   "cell_type": "code",
   "execution_count": 11,
   "metadata": {},
   "outputs": [
    {
     "name": "stderr",
     "output_type": "stream",
     "text": [
      "C:\\Users\\ma221\\anaconda3\\lib\\site-packages\\statsmodels\\tsa\\arima_model.py:472: FutureWarning: \n",
      "statsmodels.tsa.arima_model.ARMA and statsmodels.tsa.arima_model.ARIMA have\n",
      "been deprecated in favor of statsmodels.tsa.arima.model.ARIMA (note the .\n",
      "between arima and model) and\n",
      "statsmodels.tsa.SARIMAX. These will be removed after the 0.12 release.\n",
      "\n",
      "statsmodels.tsa.arima.model.ARIMA makes use of the statespace framework and\n",
      "is both well tested and maintained.\n",
      "\n",
      "To silence this warning and continue using ARMA and ARIMA until they are\n",
      "removed, use:\n",
      "\n",
      "import warnings\n",
      "warnings.filterwarnings('ignore', 'statsmodels.tsa.arima_model.ARMA',\n",
      "                        FutureWarning)\n",
      "warnings.filterwarnings('ignore', 'statsmodels.tsa.arima_model.ARIMA',\n",
      "                        FutureWarning)\n",
      "\n",
      "  warnings.warn(ARIMA_DEPRECATION_WARN, FutureWarning)\n"
     ]
    },
    {
     "name": "stdout",
     "output_type": "stream",
     "text": [
      "                             ARIMA Model Results                              \n",
      "==============================================================================\n",
      "Dep. Variable:                    D.y   No. Observations:                  364\n",
      "Model:                 ARIMA(2, 1, 2)   Log Likelihood               -2787.553\n",
      "Method:                       css-mle   S.D. of innovations            512.415\n",
      "Date:                Tue, 08 Jun 2021   AIC                           5587.107\n",
      "Time:                        23:44:40   BIC                           5610.490\n",
      "Sample:                             1   HQIC                          5596.400\n",
      "                                                                              \n",
      "==============================================================================\n",
      "                 coef    std err          z      P>|z|      [0.025      0.975]\n",
      "------------------------------------------------------------------------------\n",
      "const          6.3729     27.794      0.229      0.819     -48.103      60.849\n",
      "ar.L1.D.y     -0.3792      1.833     -0.207      0.836      -3.972       3.213\n",
      "ar.L2.D.y      0.1583      1.195      0.132      0.895      -2.183       2.500\n",
      "ma.L1.D.y      0.4574      1.829      0.250      0.802      -3.127       4.041\n",
      "ma.L2.D.y     -0.1938      1.342     -0.144      0.885      -2.824       2.437\n",
      "                                    Roots                                    \n",
      "=============================================================================\n",
      "                  Real          Imaginary           Modulus         Frequency\n",
      "-----------------------------------------------------------------------------\n",
      "AR.1           -1.5864           +0.0000j            1.5864            0.5000\n",
      "AR.2            3.9824           +0.0000j            3.9824            0.0000\n",
      "MA.1           -1.3797           +0.0000j            1.3797            0.5000\n",
      "MA.2            3.7394           +0.0000j            3.7394            0.0000\n",
      "-----------------------------------------------------------------------------\n"
     ]
    },
    {
     "name": "stderr",
     "output_type": "stream",
     "text": [
      "C:\\Users\\ma221\\anaconda3\\lib\\site-packages\\statsmodels\\tsa\\arima_model.py:472: FutureWarning: \n",
      "statsmodels.tsa.arima_model.ARMA and statsmodels.tsa.arima_model.ARIMA have\n",
      "been deprecated in favor of statsmodels.tsa.arima.model.ARIMA (note the .\n",
      "between arima and model) and\n",
      "statsmodels.tsa.SARIMAX. These will be removed after the 0.12 release.\n",
      "\n",
      "statsmodels.tsa.arima.model.ARIMA makes use of the statespace framework and\n",
      "is both well tested and maintained.\n",
      "\n",
      "To silence this warning and continue using ARMA and ARIMA until they are\n",
      "removed, use:\n",
      "\n",
      "import warnings\n",
      "warnings.filterwarnings('ignore', 'statsmodels.tsa.arima_model.ARMA',\n",
      "                        FutureWarning)\n",
      "warnings.filterwarnings('ignore', 'statsmodels.tsa.arima_model.ARIMA',\n",
      "                        FutureWarning)\n",
      "\n",
      "  warnings.warn(ARIMA_DEPRECATION_WARN, FutureWarning)\n"
     ]
    }
   ],
   "source": [
    "from statsmodels.tsa.arima_model import ARIMA\n",
    "import statsmodels.api as sm\n",
    "\n",
    "# (AR=2, 차분=1, MA=2) 파라미터로 ARIMA 모델을 학습합니다\n",
    "model = ARIMA(df_bitcoin.price.values, order=(2,1,2))\n",
    "model_fit = model.fit(trend='c', full_output=True, disp=True)\n",
    "print(model_fit.summary())"
   ]
  },
  {
   "cell_type": "markdown",
   "metadata": {},
   "source": [
    "#### 범주형 변수 정규화: 원-핫 인코딩\n",
    "- pandas에서는 get_dummies()라는 함수로 간단하게 적용 가능"
   ]
  },
  {
   "cell_type": "markdown",
   "metadata": {},
   "source": [
    "#### * feature들의 단위 맞춰주기: 원-핫 인코딩"
   ]
  },
  {
   "cell_type": "markdown",
   "metadata": {},
   "source": [
    "#### * 회귀 분석을 위한 학습, 테스트 데이터셋 분리"
   ]
  },
  {
   "cell_type": "markdown",
   "metadata": {},
   "source": [
    "# Step3. 평가: 예측 모델 평가하기"
   ]
  },
  {
   "cell_type": "markdown",
   "metadata": {},
   "source": [
    "#### * 어떤 feature가 가장 영향력이 강한 feature일까\n",
    "- 위에서 회귀 분석을 sklearn의 linear_model.LinearRegression()으로 수행했지만,  \n",
    "statsmodel의 OLS 클래스로도 회귀 분석이 가능하고 summary() 함수를 사용하면  \n",
    "계수에 대한 분석 내용을 자세하게 살펴볼 수 있다."
   ]
  },
  {
   "cell_type": "markdown",
   "metadata": {},
   "source": [
    "#### * 지금까지 학습한 coef(계수) 시각화하기"
   ]
  },
  {
   "cell_type": "markdown",
   "metadata": {},
   "source": [
    "- FIP, WAR, 홈런, 연봉(2017) feature가 가장 영향력이 큰 것으로 볼 수 있다"
   ]
  },
  {
   "cell_type": "markdown",
   "metadata": {},
   "source": [
    "###  따라서, feature 탐색 결과 1) 유의미한 feature인지 2) 영향력이 큰 feature인지 알 수 있다."
   ]
  },
  {
   "cell_type": "markdown",
   "metadata": {},
   "source": [
    "#### * 예측 모델 평가하기 : R2 score"
   ]
  },
  {
   "cell_type": "markdown",
   "metadata": {},
   "source": [
    "- 학습 데이터 셋과 테스트 데이터 셋에 대한 평가 점수 차이는 벌어지지 않는 것이 좋다.  \n",
    " 학습 데이터 셋 점수 >> 데이터 셋 점수: 과적합이 발생한 것  \n",
    " \n",
    "\n",
    "- 회귀 모델을 평가할 때는 RMSE score라는 측정 지표를 활용할 수도 있다.  \n",
    "RMSE score: 실제값과 예측값의 차이를 절대적인 수치로 나타낸 것  \n",
    "RMSE score 값이 높으면 높을수록 예측이 부정확하다는 것을 의미"
   ]
  },
  {
   "cell_type": "markdown",
   "metadata": {},
   "source": [
    "#### * feature들의 상관 관계 분석하기"
   ]
  },
  {
   "cell_type": "markdown",
   "metadata": {},
   "source": [
    "* 다중 공선성?  \n",
    "변수 간의 상관 관계가 높아 분석에 부정적인 영향을 미치는 것\n",
    "  \n",
    "  \n",
    "* VIF(분산팽창용인)?  \n",
    "다중 공선성을 평가할 수 있는 계수로, 10~15가 넘으면 그 feature는 다중 공선성의 문제가 발생했다고 판단한다."
   ]
  },
  {
   "cell_type": "markdown",
   "metadata": {},
   "source": [
    "# Step4. 시각화: 분석 결과 시각화하기"
   ]
  },
  {
   "cell_type": "markdown",
   "metadata": {},
   "source": [
    "#### * 예측 연봉과 실제 연봉 비교하기"
   ]
  },
  {
   "cell_type": "markdown",
   "metadata": {},
   "source": [
    "- 등분산을 가정하는 경우와 가정하지 않는 경우를 다 계산하는 이유  \n",
    " 등분산일 때와 등분산이 아닐 경우 t-검정 통계량을 계산하는 방식이 달라지기 때문에 보통 t-test 전에 등분산 검정을 한다.  \n",
    "   \n",
    "   \n",
    "- 등분산을 가정한 경우와 가정하지 않은 경우 모두 p-value가 0.000이하로 나타났다.\n",
    "- 따라서 귀무가설:두 집단의 평균이 같다 -> 기각 -> 아프리카와 유럽 간의 맥주 소비량은 통계적으로 유의미하다.  \n",
    "\n",
    "=> 그렇지만 여기 두 집단의 데이터 크기도 다르고, 각각의 크기 또한 크지 않기 때문에 실제로 통계적인 의미를 가지는 검정으로   보기는 어렵다."
   ]
  }
 ],
 "metadata": {
  "kernelspec": {
   "display_name": "Python 3",
   "language": "python",
   "name": "python3"
  },
  "language_info": {
   "codemirror_mode": {
    "name": "ipython",
    "version": 3
   },
   "file_extension": ".py",
   "mimetype": "text/x-python",
   "name": "python",
   "nbconvert_exporter": "python",
   "pygments_lexer": "ipython3",
   "version": "3.8.5"
  }
 },
 "nbformat": 4,
 "nbformat_minor": 4
}
